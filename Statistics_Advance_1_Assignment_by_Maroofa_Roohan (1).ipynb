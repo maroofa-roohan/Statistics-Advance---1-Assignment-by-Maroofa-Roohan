{
  "nbformat": 4,
  "nbformat_minor": 0,
  "metadata": {
    "colab": {
      "provenance": []
    },
    "kernelspec": {
      "name": "python3",
      "display_name": "Python 3"
    },
    "language_info": {
      "name": "python"
    }
  },
  "cells": [
    {
      "cell_type": "code",
      "execution_count": 1,
      "metadata": {
        "id": "X3dfqpVvoWnU"
      },
      "outputs": [],
      "source": [
        "#1. Properties of the F-Distribution\n",
        "#Shape: Asymmetric, skewed right, and depends on the degrees of freedom.\n",
        "#Non-negative values: F-distribution values are always ≥ 0.\n",
        "#Parameters: Defined by two degrees of freedom:\n",
        "#𝑑𝑓1df 1​(numerator) and 𝑑𝑓2df 2​ (denominator).\n",
        "#Mean: Approximates 1 when 𝑑𝑓2>2df 2>2.\n",
        "#Asymptotic behavior: As 𝑑𝑓1df1 and 𝑑𝑓2df2 increase, the F-distribution approaches normality.\n"
      ]
    },
    {
      "cell_type": "code",
      "source": [
        "#2. Statistical Tests Using F-Distribution\n",
        "#Tests: Used in ANOVA, regression analysis, and comparing variances.\n",
        "#Appropriate because:\n",
        "#It compares two variances (ratios) and assumes a specific distribution under the null hypothesis.\n",
        "#Evaluates whether variance differences are due to chance."
      ],
      "metadata": {
        "id": "rZw_jyjBpKYz"
      },
      "execution_count": 2,
      "outputs": []
    },
    {
      "cell_type": "code",
      "source": [
        "#3. Assumptions for Conducting an F-Test\n",
        "#Populations follow a normal distribution.\n",
        "#Samples are independent.\n",
        "#Random sampling is used.\n",
        "#The ratio of variances follows the F-distribution"
      ],
      "metadata": {
        "id": "HJhMXh3UpSMf"
      },
      "execution_count": 3,
      "outputs": []
    },
    {
      "cell_type": "code",
      "source": [
        "#4. Purpose of ANOVA vs.                               |        t-Test\n",
        "#Aspect\tANOVA\tt-Test                                   |\n",
        "#Purpose\tCompare means across multiple groups         |     \tCompare means of two groups\n",
        "#Use case\tMore than two groups                         |       \tExactly two groups\n",
        "#Output\tF-statistic and p-value\t                       |         t-statistic and p-value\n"
      ],
      "metadata": {
        "id": "OkxRS7LVpgEr"
      },
      "execution_count": 4,
      "outputs": []
    },
    {
      "cell_type": "code",
      "source": [
        "#5. Why Use One-Way ANOVA Instead of Multiple t-Tests?\n",
        "#Efficiency: Reduces computational effort when comparing multiple groups.\n",
        "#Control of Type I error: Maintains the significance level without inflating it (avoids error accumulation).\n"
      ],
      "metadata": {
        "id": "HUmvB5YGqJel"
      },
      "execution_count": 5,
      "outputs": []
    },
    {
      "cell_type": "code",
      "source": [
        "#6. Variance Partitioning in ANOVA\n",
        "#Between-group variance: Variance due to differences in group means.\n",
        "#Within-group variance: Variance within individual groups.\n",
        "#F-statistic: 𝐹=\n",
        "#Between-group variance \\ Within-group variance\n",
        "\n",
        "#It determines if group means significantly differ.\n"
      ],
      "metadata": {
        "id": "YewetZKdqOjJ"
      },
      "execution_count": 6,
      "outputs": []
    },
    {
      "cell_type": "code",
      "source": [
        "#7. Classical vs.                                                      |   Bayesian ANOVA\n",
        "#Aspect\tClassical ANOVA                                                |    Bayesian ANOVA\n",
        "#Uncertainty\tUses p-values; fixed conclusions\t                       |     Uses probability distributions\n",
        "#Parameter estimation\tBased on sample data\t                           |   Incorporates prior information\n",
        "#Hypothesis testing\tBinary reject/fail to reject approach              |\tProvides a range of likely values\n"
      ],
      "metadata": {
        "id": "0pDncS1uqpjC"
      },
      "execution_count": 7,
      "outputs": []
    },
    {
      "cell_type": "code",
      "source": [
        "#8. F-Test for Comparing Variances (Python Code)\n",
        "\n",
        "import numpy as np\n",
        "from scipy.stats import f\n",
        "\n",
        "# Data\n",
        "profession_A = [48, 52, 55, 60, 62]\n",
        "profession_B = [45, 50, 55, 52, 47]\n",
        "\n",
        "# Variance\n",
        "var_A = np.var(profession_A, ddof=1)\n",
        "var_B = np.var(profession_B, ddof=1)\n",
        "\n",
        "# F-statistic\n",
        "F = var_A / var_B\n",
        "\n",
        "# Degrees of freedom\n",
        "df1 = len(profession_A) - 1\n",
        "df2 = len(profession_B) - 1\n",
        "\n",
        "# p-value\n",
        "p_value = 1 - f.cdf(F, df1, df2)\n",
        "\n",
        "print(f\"F-statistic: {F:.2f}, p-value: {p_value:.4f}\")\n"
      ],
      "metadata": {
        "colab": {
          "base_uri": "https://localhost:8080/"
        },
        "id": "OPLnFr_arGiV",
        "outputId": "8b578c09-e72d-4c92-dc61-b726c2c94eb4"
      },
      "execution_count": 8,
      "outputs": [
        {
          "output_type": "stream",
          "name": "stdout",
          "text": [
            "F-statistic: 2.09, p-value: 0.2465\n"
          ]
        }
      ]
    },
    {
      "cell_type": "code",
      "source": [
        "#9. One-Way ANOVA for Heights (Python Code)\n",
        "\n",
        "\n",
        "import scipy.stats as stats\n",
        "\n",
        "# Data\n",
        "region_A = [160, 162, 165, 158, 164]\n",
        "region_B = [172, 175, 170, 168, 174]\n",
        "region_C = [180, 182, 179, 185, 183]\n",
        "\n",
        "# One-way ANOVA\n",
        "F, p_value = stats.f_oneway(region_A, region_B, region_C)\n",
        "\n",
        "print(f\"F-statistic: {F:.2f}, p-value: {p_value:.4f}\")\n"
      ],
      "metadata": {
        "colab": {
          "base_uri": "https://localhost:8080/"
        },
        "id": "qBD_4epVrdqd",
        "outputId": "7791159b-d533-453e-af39-b334bd27c911"
      },
      "execution_count": 9,
      "outputs": [
        {
          "output_type": "stream",
          "name": "stdout",
          "text": [
            "F-statistic: 67.87, p-value: 0.0000\n"
          ]
        }
      ]
    },
    {
      "cell_type": "code",
      "source": [],
      "metadata": {
        "id": "NvJb9DcDrsbm"
      },
      "execution_count": null,
      "outputs": []
    }
  ]
}